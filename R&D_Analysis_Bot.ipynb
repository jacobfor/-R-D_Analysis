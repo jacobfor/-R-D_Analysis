{
 "cells": [
  {
   "cell_type": "code",
   "execution_count": 5,
   "metadata": {},
   "outputs": [],
   "source": [
    "import openai  # ✅ OpenAI 라이브러리 import\n",
    "import pandas as pd\n",
    "from tqdm import tqdm"
   ]
  },
  {
   "cell_type": "code",
   "execution_count": 6,
   "metadata": {},
   "outputs": [
    {
     "name": "stderr",
     "output_type": "stream",
     "text": [
      "C:\\Users\\jihoo\\AppData\\Local\\Temp\\ipykernel_25992\\351230558.py:1: DtypeWarning: Columns (0,1,3,6,9,10,15,18,19,21,22,24,25,26,27,28,29,30,31,32,33,34,35,39,40,46,47,48,52,53,54,55,56,57,58,59,60,61,62,63,64,65,66,67,68,69,70,71,72,73,74,75,76,77) have mixed types. Specify dtype option on import or set low_memory=False.\n",
      "  df = pd.read_csv(\"merged_R&D.csv\")\n"
     ]
    }
   ],
   "source": [
    "df = pd.read_csv(\"merged_R&D.csv\")"
   ]
  },
  {
   "cell_type": "code",
   "execution_count": 7,
   "metadata": {},
   "outputs": [
    {
     "name": "stdout",
     "output_type": "stream",
     "text": [
      "            NO  기준년도         사업명                내역사업명      부처명  과제관리(전문)기관명  \\\n",
      "0            1  2024  중소기업기술혁신개발  중소기업기술혁신개발사업(수출지향형)  중소벤처기업부  중소기업기술정보진흥원   \n",
      "1            2  2024    창업성장기술개발      창업성장기술개발사업(디딤돌)  중소벤처기업부  중소기업기술정보진흥원   \n",
      "2            3  2024    창업성장기술개발      창업성장기술개발사업(디딤돌)  중소벤처기업부  중소기업기술정보진흥원   \n",
      "3            4  2024    창업성장기술개발      창업성장기술개발사업(디딤돌)  중소벤처기업부  중소기업기술정보진흥원   \n",
      "4          4-1  2023    창업성장기술개발      창업성장기술개발사업(디딤돌)  중소벤처기업부  중소기업기술정보진흥원   \n",
      "...        ...   ...         ...                  ...      ...          ...   \n",
      "165172   99996  2005  중소기업기술혁신개발                  NaN    중소기업청    한국산업기술평가원   \n",
      "165173   99997  2005  중소기업기술혁신개발                  NaN    중소기업청    한국산업기술평가원   \n",
      "165174   99998  2005  중소기업기술혁신개발                  NaN    중소기업청    한국산업기술평가원   \n",
      "165175   99999  2005  중소기업기술혁신개발                  NaN    중소기업청    한국산업기술평가원   \n",
      "165176  100000  2005  중소기업기술혁신개발                  NaN    중소기업청    한국산업기술평가원   \n",
      "\n",
      "            과제고유번호 (기관)세부과제번호 계속과제여부구분    이전과제고유번호  ... 민간연구비_중견기업현금  \\\n",
      "0       2420004593   TI022115       계속  1425171906  ...            0   \n",
      "1       2420003073   00429090       신규         NaN  ...            0   \n",
      "2       2420002717   00426251       신규         NaN  ...            0   \n",
      "3       2420001433   00264645       계속  1425180371  ...            0   \n",
      "4       1425180371   00264645       신규         NaN  ...            0   \n",
      "...            ...        ...      ...         ...  ...          ...   \n",
      "165172  1420015297   S1001257       신규         NaN  ...            0   \n",
      "165173  1420015107   S1003444       신규         NaN  ...            0   \n",
      "165174  1420019210   S1000303       신규         NaN  ...            0   \n",
      "165175  1420015127   S1008513       신규         NaN  ...            0   \n",
      "165176  1420015163   S1005409       신규         NaN  ...            0   \n",
      "\n",
      "       민간연구비_중견기업현물 민간연구비_중소기업현금 민간연구비_중소기업현물 민간연구비_병원현금 민간연구비_병원현물  \\\n",
      "0                 0     10000000     90000000        NaN        NaN   \n",
      "1                 0      3334000     30000000        NaN        NaN   \n",
      "2                 0      3334000     30000000        NaN        NaN   \n",
      "3                 0      1200000     10800000        NaN        NaN   \n",
      "4                 0      1500000     13500000        NaN        NaN   \n",
      "...             ...          ...          ...        ...        ...   \n",
      "165172            0            0            0        NaN        NaN   \n",
      "165173            0            0            0        NaN        NaN   \n",
      "165174            0            0            0        NaN        NaN   \n",
      "165175            0            0            0        NaN        NaN   \n",
      "165176            0            0            0        NaN        NaN   \n",
      "\n",
      "       민간연구비_기타현금 민간연구비_기타현물   민간연구비_소계      연구비합계  \n",
      "0               0          0  100000000  500000000  \n",
      "1               0          0   33334000  133334000  \n",
      "2               0          0   33334000  133334000  \n",
      "3               0          0   12000000   60000000  \n",
      "4               0          0   15000000   75000000  \n",
      "...           ...        ...        ...        ...  \n",
      "165172          0          0          0  125000000  \n",
      "165173          0          0          0  133000000  \n",
      "165174          0          0          0  106000000  \n",
      "165175          0          0          0   90000000  \n",
      "165176          0          0          0   97000000  \n",
      "\n",
      "[50103 rows x 78 columns]\n"
     ]
    }
   ],
   "source": [
    "# 포함할 사업명 목록\n",
    "target_business_names = [\"창업성장기술개발\", \"중소기업기술혁신개발\", \"중소기업기술혁신개발(소부장회계)\"]\n",
    "\n",
    "# 필터링\n",
    "df = df[df[\"사업명\"].isin(target_business_names)]\n",
    "\n",
    "# 결과 출력\n",
    "print(df)\n",
    "\n",
    "df.to_csv(\"filtered_business_projects.csv\", index=False, encoding=\"utf-8\")\n"
   ]
  },
  {
   "cell_type": "code",
   "execution_count": 8,
   "metadata": {},
   "outputs": [
    {
     "data": {
      "text/plain": [
       "Index(['NO', '기준년도', '사업명', '내역사업명', '부처명', '과제관리(전문)기관명', '과제고유번호',\n",
       "       '(기관)세부과제번호', '계속과제여부구분', '이전과제고유번호', '총괄세부과제번호', '과제명(국문)', '과제명(영문)',\n",
       "       '연구책임자명', '연구개발기관(2020년 이전 명칭: 과제수행기관명)', '사업자등록번호', '연구수행주체',\n",
       "       '연구비 주집행지역', '총연구기간시작일', '총연구기간종료일', '다년도협약구분', '당해년도연구기간시작일',\n",
       "       '당해년도연구기간종료일', '과학기술표준_연구분야분류1', '과학기술표준_연구분야분류가중치1', '과학기술표준_연구분야분류2',\n",
       "       '과학기술표준_연구분야분류가중치2', '과학기술표준_연구분야분류3', '과학기술표준_연구분야분류가중치3',\n",
       "       '과학기술표준_적용분야분류1', '과학기술표준_적용분야분류가중치1', '과학기술표준_적용분야분류2',\n",
       "       '과학기술표준_적용분야분류가중치2', '과학기술표준_적용분야분류3', '과학기술표준_적용분야분류가중치3', '녹색기술분야분류',\n",
       "       '6T관련기술분류', '국가전략기술', '기술수명주기', '세부과제성격', '세부과제_지원유형', '연구목표요약',\n",
       "       '연구내용요약', '기대효과요약', '한글키워드', '영문키워드', '부처자체분류_대분류', '부처자체분류_중분류',\n",
       "       '부처자체분류_소분류', '실용화대상여부구분', '연구개발단계', '연구개발성격구분', '과제진행상태구분', '과제협약일',\n",
       "       '정부투자연구비', '인건비_현금', '인건비_현물', '직접비_현금', '직접비_현물', '간접비', '위탁연구비',\n",
       "       '청관련물건비', '민간연구비_지방정부현금', '민간연구비_지방정부현물', '민간연구비_대학현금', '민간연구비_대학현물',\n",
       "       '민간연구비_대기업현금', '민간연구비_대기업현물', '민간연구비_중견기업현금', '민간연구비_중견기업현물',\n",
       "       '민간연구비_중소기업현금', '민간연구비_중소기업현물', '민간연구비_병원현금', '민간연구비_병원현물',\n",
       "       '민간연구비_기타현금', '민간연구비_기타현물', '민간연구비_소계', '연구비합계'],\n",
       "      dtype='object')"
      ]
     },
     "execution_count": 8,
     "metadata": {},
     "output_type": "execute_result"
    }
   ],
   "source": [
    "df.columns"
   ]
  },
  {
   "cell_type": "code",
   "execution_count": 9,
   "metadata": {},
   "outputs": [],
   "source": [
    "import pandas as pd\n",
    "import numpy as np\n",
    "import openai\n",
    "from tqdm import tqdm\n",
    "from dotenv import load_dotenv\n",
    "import os\n",
    "\n",
    "# ✅ .env 파일 로드\n",
    "load_dotenv()\n",
    "openai.api_key = os.getenv(\"OPENAI_API_KEY\")\n",
    "\n",
    "# ✅ tqdm을 pandas에 적용\n",
    "tqdm.pandas()"
   ]
  },
  {
   "cell_type": "markdown",
   "metadata": {},
   "source": [
    "✅ 방법 1: OpenAPI Embedding 그냥 넣기"
   ]
  },
  {
   "cell_type": "code",
   "execution_count": 10,
   "metadata": {},
   "outputs": [],
   "source": [
    "df[\"combined\"] = (\n",
    "    \"과제명: \" + df[\"과제명(국문)\"].fillna(\"\").str.strip() + \n",
    "    \"; English Title: \" + df[\"과제명(영문)\"].fillna(\"\").str.strip() +\n",
    "    \"; 연구목표: \" + df[\"연구목표요약\"].fillna(\"\").str.strip() +\n",
    "    \"; 연구내용: \" + df[\"연구내용요약\"].fillna(\"\").str.strip() +\n",
    "    \"; 기대효과: \" + df[\"기대효과요약\"].fillna(\"\").str.strip() +\n",
    "    \"; 키워드: \" + df[\"한글키워드\"].fillna(\"\").str.strip() +\n",
    "    \"; English Keywords: \" + df[\"영문키워드\"].fillna(\"\").str.strip()\n",
    ")"
   ]
  },
  {
   "cell_type": "code",
   "execution_count": null,
   "metadata": {},
   "outputs": [],
   "source": [
    "# ✅ OpenAI 임베딩 함수\n",
    "def get_embedding(text, model=\"text-embedding-3-small\"):\n",
    "    response = openai.Embedding.create(input=[text], model=model)\n",
    "    return response[\"data\"][0][\"embedding\"]\n",
    "\n",
    "# ✅ tqdm을 사용하여 진행률 표시하며 임베딩 적용\n",
    "df[\"embedding\"] = df[\"combined\"].progress_apply(lambda x: get_embedding(x))\n",
    "\n",
    "# ✅ 변환된 데이터를 CSV로 저장\n",
    "df.to_csv(\"merged_R&D_Embedding.csv\", index=False, encoding=\"utf-8\")\n",
    "\n",
    "# ✅ 최종 결과 확인\n",
    "print(\"✅ 임베딩 완료! 결과가 'R&D_Embedding.csv'에 저장되었습니다.\")"
   ]
  },
  {
   "cell_type": "markdown",
   "metadata": {},
   "source": [
    "✅ 방법 2: OpenAI batch processing 활용\n",
    "OpenAI에서는 한 번에 여러 개의 텍스트를 입력하여 배치로 임베딩 생성 가능\n",
    "현재는 한 줄씩 개별적으로 처리하고 있으므로 속도가 느림\n",
    "OpenAI의 batch 기능을 활용하면 50,000개 데이터도 30분 이내로 처리 가능!"
   ]
  },
  {
   "cell_type": "code",
   "execution_count": 17,
   "metadata": {},
   "outputs": [
    {
     "name": "stderr",
     "output_type": "stream",
     "text": [
      "Batch Processing: 100%|██████████| 5011/5011 [1:11:18<00:00,  1.17it/s]\n"
     ]
    },
    {
     "name": "stdout",
     "output_type": "stream",
     "text": [
      "✅ Batch 임베딩 완료!\n"
     ]
    }
   ],
   "source": [
    "import pandas as pd\n",
    "import openai\n",
    "from tqdm import tqdm\n",
    "import time\n",
    "\n",
    "# ✅ .env 파일 로드\n",
    "load_dotenv()\n",
    "openai.api_key = os.getenv(\"OPENAI_API_KEY\")\n",
    "\n",
    "# ✅ tqdm 설정\n",
    "tqdm.pandas()\n",
    "\n",
    "# ✅ OpenAI Batch 임베딩 함수 (오류 방지)\n",
    "def get_batch_embeddings(texts, model=\"text-embedding-3-small\"):\n",
    "    try:\n",
    "        response = openai.Embedding.create(input=texts, model=model)\n",
    "        if \"data\" not in response:\n",
    "            print(\"❌ API 응답이 올바르지 않습니다. JSON이 아님.\")\n",
    "            print(response)  # 응답 내용 출력\n",
    "            return None\n",
    "        return [item[\"embedding\"] for item in response[\"data\"]]\n",
    "    except openai.error.ServiceUnavailableError:\n",
    "        print(\"⚠️ OpenAI 서버가 응답할 수 없습니다. 10초 후 다시 시도...\")\n",
    "        time.sleep(10)\n",
    "        return get_batch_embeddings(texts, model)\n",
    "    except openai.error.RateLimitError:\n",
    "        print(\"🚨 API 요청 제한 초과! 60초 대기 후 다시 시도...\")\n",
    "        time.sleep(60)\n",
    "        return get_batch_embeddings(texts, model)\n",
    "    except Exception as e:\n",
    "        print(f\"❌ 예상치 못한 오류 발생: {e}\")\n",
    "        return None\n",
    "\n",
    "# ✅ Batch 크기 설정 (50 → 10으로 줄이기)\n",
    "batch_size = 10\n",
    "\n",
    "\n",
    "# ✅ 배치 나누기\n",
    "text_list = df[\"combined\"].tolist()\n",
    "batches = [text_list[i:i+batch_size] for i in range(0, len(text_list), batch_size)]\n",
    "\n",
    "# ✅ tqdm으로 진행률 표시하며 처리\n",
    "embeddings = []\n",
    "for batch in tqdm(batches, desc=\"Batch Processing\"):\n",
    "    batch_embeddings = get_batch_embeddings(batch)\n",
    "    if batch_embeddings:  # None이 아닐 때만 추가\n",
    "        embeddings.extend(batch_embeddings)\n",
    "\n",
    "# ✅ 임베딩 결과 추가\n",
    "df[\"embedding\"] = embeddings\n",
    "\n",
    "# ✅ CSV 저장\n",
    "df.to_csv(\"merged_R&D_Embedding.csv\", index=False, encoding=\"utf-8\")\n",
    "\n",
    "print(\"✅ Batch 임베딩 완료!\")\n"
   ]
  },
  {
   "cell_type": "code",
   "execution_count": 4,
   "metadata": {},
   "outputs": [
    {
     "name": "stderr",
     "output_type": "stream",
     "text": [
      "C:\\Users\\jihoo\\AppData\\Local\\Temp\\ipykernel_3824\\2737143356.py:6: DtypeWarning: Columns (0,3,9,10,12,15,25,27,29,31,33,35,40,46,47,48,52,53) have mixed types. Specify dtype option on import or set low_memory=False.\n",
      "  df = pd.read_csv(\"merged_R&D_Embedding.csv\")\n"
     ]
    },
    {
     "data": {
      "text/plain": [
       "Index(['NO', '기준년도', '사업명', '내역사업명', '부처명', '과제관리(전문)기관명', '과제고유번호',\n",
       "       '(기관)세부과제번호', '계속과제여부구분', '이전과제고유번호', '총괄세부과제번호', '과제명(국문)', '과제명(영문)',\n",
       "       '연구책임자명', '연구개발기관(2020년 이전 명칭: 과제수행기관명)', '사업자등록번호', '연구수행주체',\n",
       "       '연구비 주집행지역', '총연구기간시작일', '총연구기간종료일', '다년도협약구분', '당해년도연구기간시작일',\n",
       "       '당해년도연구기간종료일', '과학기술표준_연구분야분류1', '과학기술표준_연구분야분류가중치1', '과학기술표준_연구분야분류2',\n",
       "       '과학기술표준_연구분야분류가중치2', '과학기술표준_연구분야분류3', '과학기술표준_연구분야분류가중치3',\n",
       "       '과학기술표준_적용분야분류1', '과학기술표준_적용분야분류가중치1', '과학기술표준_적용분야분류2',\n",
       "       '과학기술표준_적용분야분류가중치2', '과학기술표준_적용분야분류3', '과학기술표준_적용분야분류가중치3', '녹색기술분야분류',\n",
       "       '6T관련기술분류', '국가전략기술', '기술수명주기', '세부과제성격', '세부과제_지원유형', '연구목표요약',\n",
       "       '연구내용요약', '기대효과요약', '한글키워드', '영문키워드', '부처자체분류_대분류', '부처자체분류_중분류',\n",
       "       '부처자체분류_소분류', '실용화대상여부구분', '연구개발단계', '연구개발성격구분', '과제진행상태구분', '과제협약일',\n",
       "       '정부투자연구비', '인건비_현금', '인건비_현물', '직접비_현금', '직접비_현물', '간접비', '위탁연구비',\n",
       "       '청관련물건비', '민간연구비_지방정부현금', '민간연구비_지방정부현물', '민간연구비_대학현금', '민간연구비_대학현물',\n",
       "       '민간연구비_대기업현금', '민간연구비_대기업현물', '민간연구비_중견기업현금', '민간연구비_중견기업현물',\n",
       "       '민간연구비_중소기업현금', '민간연구비_중소기업현물', '민간연구비_병원현금', '민간연구비_병원현물',\n",
       "       '민간연구비_기타현금', '민간연구비_기타현물', '민간연구비_소계', '연구비합계', 'combined',\n",
       "       'embedding'],\n",
       "      dtype='object')"
      ]
     },
     "execution_count": 4,
     "metadata": {},
     "output_type": "execute_result"
    }
   ],
   "source": [
    "import pandas as pd\n",
    "import openai\n",
    "from tqdm import tqdm\n",
    "import time\n",
    "\n",
    "df = pd.read_csv(\"merged_R&D_Embedding.csv\")\n",
    "df.columns"
   ]
  },
  {
   "cell_type": "markdown",
   "metadata": {},
   "source": [
    "🔹 Step 1: 유사한 연구 과제 검색\n",
    "사용자가 입력한 연구 주제와 유사한 연구 과제 10개를 검색합니다.\n",
    "코사인 유사도(Cosine Similarity)를 사용하여 검색합니다."
   ]
  },
  {
   "cell_type": "code",
   "execution_count": 7,
   "metadata": {},
   "outputs": [
    {
     "name": "stderr",
     "output_type": "stream",
     "text": [
      "C:\\Users\\jihoo\\AppData\\Local\\Temp\\ipykernel_3824\\2635618758.py:18: DtypeWarning: Columns (0,3,9,10,12,15,25,27,29,31,33,35,40,46,47,48,52,53) have mixed types. Specify dtype option on import or set low_memory=False.\n",
      "  df = pd.read_csv(\"merged_R&D_Embedding.csv\", encoding=\"utf-8\")\n"
     ]
    },
    {
     "name": "stdout",
     "output_type": "stream",
     "text": [
      "\n",
      "📝 입력된 사업 내용: 전기 이륜차 배터리 잔존가치를 토대로 신용 및 리스크를 평가하여 대출, 보험, 리스 등 금융상품을 설계할 수 있는 인공지능 모델\n",
      "\n",
      "\n",
      "🔍 유사한 연구 과제 검색 중...\n"
     ]
    },
    {
     "name": "stderr",
     "output_type": "stream",
     "text": [
      "100%|██████████| 50103/50103 [00:10<00:00, 4696.06it/s]\n"
     ]
    },
    {
     "name": "stdout",
     "output_type": "stream",
     "text": [
      "\n",
      "📌 유사한 연구 과제 TOP 10:\n"
     ]
    },
    {
     "data": {
      "text/html": [
       "<div>\n",
       "<style scoped>\n",
       "    .dataframe tbody tr th:only-of-type {\n",
       "        vertical-align: middle;\n",
       "    }\n",
       "\n",
       "    .dataframe tbody tr th {\n",
       "        vertical-align: top;\n",
       "    }\n",
       "\n",
       "    .dataframe thead th {\n",
       "        text-align: right;\n",
       "    }\n",
       "</style>\n",
       "<table border=\"1\" class=\"dataframe\">\n",
       "  <thead>\n",
       "    <tr style=\"text-align: right;\">\n",
       "      <th></th>\n",
       "      <th>과제명(국문)</th>\n",
       "      <th>연구목표요약</th>\n",
       "      <th>기대효과요약</th>\n",
       "      <th>similarity</th>\n",
       "    </tr>\n",
       "  </thead>\n",
       "  <tbody>\n",
       "    <tr>\n",
       "      <th>5810</th>\n",
       "      <td>인공지능 기반 커넥티드카 차량데이터 분석을 통한 미래시점의 전기차 배터리 잔존가치 ...</td>\n",
       "      <td>가) 배터리 기대 수명 예측 모델 고도화 _x005F*  의사결정에 반영하는 앙상블...</td>\n",
       "      <td>[활용계획]_x005F1. 전기차 미래 기대 수명 예측 및 배터리 관리 서비스 사업...</td>\n",
       "      <td>0.618534</td>\n",
       "    </tr>\n",
       "    <tr>\n",
       "      <th>1840</th>\n",
       "      <td>인공지능 기반 커넥티드카 차량데이터 분석을 통한 미래시점의 전기차 배터리 잔존가치 ...</td>\n",
       "      <td>가) 배터리 기대 수명 예측 모델 고도화  모델 관리 및 에러를 모니터하고, 개선 ...</td>\n",
       "      <td>... 및 배터리 관리 서비스 사업화 : 일반 전기차 사용자 들에게 미래 시점의 배...</td>\n",
       "      <td>0.617417</td>\n",
       "    </tr>\n",
       "    <tr>\n",
       "      <th>26848</th>\n",
       "      <td>자동차용 파우치형 배터리 단위셀 외관 불량 선별을 위한 인공지능 융복합 cybere...</td>\n",
       "      <td>cybereyes 데이터 축적 및 분석을 위한 인프라 기반설계 인공지능 탑재된 cy...</td>\n",
       "      <td>한국산업기술진흥협회(KOITA) 기술인력지원 통한 고급인력 확보- 이공계 인력의 취...</td>\n",
       "      <td>0.592685</td>\n",
       "    </tr>\n",
       "    <tr>\n",
       "      <th>5811</th>\n",
       "      <td>인공지능 기반 커넥티드카 차량데이터 분석을 통한 미래시점의 전기차 배터리 잔존가치 ...</td>\n",
       "      <td>가) 차량데이터 기반 배터리 잔존가치 예측 인공지능 모델 개발 :  수집된 데이터를...</td>\n",
       "      <td>[활용계획]1. 전기차 미래 기대 수명 예측 및 배터리 관리 서비스 사업화 : 일반...</td>\n",
       "      <td>0.591835</td>\n",
       "    </tr>\n",
       "    <tr>\n",
       "      <th>5809</th>\n",
       "      <td>인공지능 기반 커넥티드카 차량데이터 분석을 통한 미래시점의 전기차 배터리 잔존가치 ...</td>\n",
       "      <td>1. 전기차로부터 실제 수집된 배터리 및 운행 관련 데이터를 기반으로 배터리 잔존 ...</td>\n",
       "      <td>... 및 배터리 관리 서비스 사업화 : 일반 전기차 사용자 들에게 미래 시점의 배...</td>\n",
       "      <td>0.589149</td>\n",
       "    </tr>\n",
       "    <tr>\n",
       "      <th>8499</th>\n",
       "      <td>AI 기반 전기택시 배터리 안전 관제 알고리즘 개발</td>\n",
       "      <td>- AI 기반으로 전기 택시의 운행데이터를 기반으로 전기차 배터리 안전 예측 및 상...</td>\n",
       "      <td>... 강화된 BMS 및 EV 사용 후 배터리 재제조를 통한 중소형 서비스 모빌리티...</td>\n",
       "      <td>0.561134</td>\n",
       "    </tr>\n",
       "    <tr>\n",
       "      <th>25449</th>\n",
       "      <td>재사용 가능한 배터리의  유효 수명 측정을 위한 장치 및 AI기법에 기반한 알고리즘 개발</td>\n",
       "      <td>2차년도 개발목표는 다음에 목표를 가지고 개발을 진행하고자 함.  - 2차년도는  ...</td>\n",
       "      <td>... 미치기 때문에 셀 단위로 분해 가공은 경제성 확보가 어려울 것으로 보고 있음...</td>\n",
       "      <td>0.554266</td>\n",
       "    </tr>\n",
       "    <tr>\n",
       "      <th>20386</th>\n",
       "      <td>AI를 이용한 지능형 배터리 단자 검사기의 개발</td>\n",
       "      <td>배터리 단자 검사를 위해 완성된설비의 구동시험 및 효용성을 집중적으로 실시한다. 2...</td>\n",
       "      <td>1. 연구개발성과의 활용방안(1) 기존 영상인식 시스템과의 연계 모듈 개발배터리 단...</td>\n",
       "      <td>0.553721</td>\n",
       "    </tr>\n",
       "    <tr>\n",
       "      <th>9247</th>\n",
       "      <td>AI를 이용한 지능형 배터리 단자 검사기의 개발</td>\n",
       "      <td>1.전기자동차에 폭발적으로 사용되고 있는 이차전지의 핵심부품인 단자에 대한 지능형(...</td>\n",
       "      <td>1. 연구개발성과의 활용방안(1) 기존 영상인식 시스템과의 연계 모듈 개발배터리 단...</td>\n",
       "      <td>0.548064</td>\n",
       "    </tr>\n",
       "    <tr>\n",
       "      <th>4886</th>\n",
       "      <td>AI기반 재사용배터리(2nd-Life Battery)의 안전성 및 효율성 강화를 위...</td>\n",
       "      <td>- 리튬이온배터리(LIB) 및 재사용배터리(2nd-Life Battery)를 적용한...</td>\n",
       "      <td>- 해외 전력소외지역(Off-grid 및 Weak-grid) 하이브리드 마이크로그리...</td>\n",
       "      <td>0.543455</td>\n",
       "    </tr>\n",
       "  </tbody>\n",
       "</table>\n",
       "</div>"
      ],
      "text/plain": [
       "                                                 과제명(국문)  \\\n",
       "5810   인공지능 기반 커넥티드카 차량데이터 분석을 통한 미래시점의 전기차 배터리 잔존가치 ...   \n",
       "1840   인공지능 기반 커넥티드카 차량데이터 분석을 통한 미래시점의 전기차 배터리 잔존가치 ...   \n",
       "26848  자동차용 파우치형 배터리 단위셀 외관 불량 선별을 위한 인공지능 융복합 cybere...   \n",
       "5811   인공지능 기반 커넥티드카 차량데이터 분석을 통한 미래시점의 전기차 배터리 잔존가치 ...   \n",
       "5809   인공지능 기반 커넥티드카 차량데이터 분석을 통한 미래시점의 전기차 배터리 잔존가치 ...   \n",
       "8499                        AI 기반 전기택시 배터리 안전 관제 알고리즘 개발   \n",
       "25449  재사용 가능한 배터리의  유효 수명 측정을 위한 장치 및 AI기법에 기반한 알고리즘 개발   \n",
       "20386                         AI를 이용한 지능형 배터리 단자 검사기의 개발   \n",
       "9247                          AI를 이용한 지능형 배터리 단자 검사기의 개발   \n",
       "4886   AI기반 재사용배터리(2nd-Life Battery)의 안전성 및 효율성 강화를 위...   \n",
       "\n",
       "                                                  연구목표요약  \\\n",
       "5810   가) 배터리 기대 수명 예측 모델 고도화 _x005F*  의사결정에 반영하는 앙상블...   \n",
       "1840   가) 배터리 기대 수명 예측 모델 고도화  모델 관리 및 에러를 모니터하고, 개선 ...   \n",
       "26848  cybereyes 데이터 축적 및 분석을 위한 인프라 기반설계 인공지능 탑재된 cy...   \n",
       "5811   가) 차량데이터 기반 배터리 잔존가치 예측 인공지능 모델 개발 :  수집된 데이터를...   \n",
       "5809   1. 전기차로부터 실제 수집된 배터리 및 운행 관련 데이터를 기반으로 배터리 잔존 ...   \n",
       "8499   - AI 기반으로 전기 택시의 운행데이터를 기반으로 전기차 배터리 안전 예측 및 상...   \n",
       "25449  2차년도 개발목표는 다음에 목표를 가지고 개발을 진행하고자 함.  - 2차년도는  ...   \n",
       "20386  배터리 단자 검사를 위해 완성된설비의 구동시험 및 효용성을 집중적으로 실시한다. 2...   \n",
       "9247   1.전기자동차에 폭발적으로 사용되고 있는 이차전지의 핵심부품인 단자에 대한 지능형(...   \n",
       "4886   - 리튬이온배터리(LIB) 및 재사용배터리(2nd-Life Battery)를 적용한...   \n",
       "\n",
       "                                                  기대효과요약  similarity  \n",
       "5810   [활용계획]_x005F1. 전기차 미래 기대 수명 예측 및 배터리 관리 서비스 사업...    0.618534  \n",
       "1840   ... 및 배터리 관리 서비스 사업화 : 일반 전기차 사용자 들에게 미래 시점의 배...    0.617417  \n",
       "26848  한국산업기술진흥협회(KOITA) 기술인력지원 통한 고급인력 확보- 이공계 인력의 취...    0.592685  \n",
       "5811   [활용계획]1. 전기차 미래 기대 수명 예측 및 배터리 관리 서비스 사업화 : 일반...    0.591835  \n",
       "5809   ... 및 배터리 관리 서비스 사업화 : 일반 전기차 사용자 들에게 미래 시점의 배...    0.589149  \n",
       "8499   ... 강화된 BMS 및 EV 사용 후 배터리 재제조를 통한 중소형 서비스 모빌리티...    0.561134  \n",
       "25449  ... 미치기 때문에 셀 단위로 분해 가공은 경제성 확보가 어려울 것으로 보고 있음...    0.554266  \n",
       "20386  1. 연구개발성과의 활용방안(1) 기존 영상인식 시스템과의 연계 모듈 개발배터리 단...    0.553721  \n",
       "9247   1. 연구개발성과의 활용방안(1) 기존 영상인식 시스템과의 연계 모듈 개발배터리 단...    0.548064  \n",
       "4886   - 해외 전력소외지역(Off-grid 및 Weak-grid) 하이브리드 마이크로그리...    0.543455  "
      ]
     },
     "metadata": {},
     "output_type": "display_data"
    }
   ],
   "source": [
    "import openai\n",
    "import pandas as pd\n",
    "import numpy as np\n",
    "from tqdm import tqdm\n",
    "from sklearn.metrics.pairwise import cosine_similarity\n",
    "from dotenv import load_dotenv\n",
    "import os\n",
    "import ast  # 안전한 문자열 변환을 위한 라이브러리\n",
    "\n",
    "# ✅ .env 파일 로드\n",
    "load_dotenv()\n",
    "openai.api_key = os.getenv(\"OPENAI_API_KEY\")\n",
    "\n",
    "# ✅ tqdm 진행률 표시 적용\n",
    "tqdm.pandas()\n",
    "\n",
    "# ✅ 저장된 임베딩 CSV 파일 불러오기 (기존 임베딩 데이터 활용)\n",
    "df = pd.read_csv(\"merged_R&D_Embedding.csv\", encoding=\"utf-8\")\n",
    "df[\"embedding\"] = df[\"embedding\"].apply(ast.literal_eval)  # 문자열을 리스트로 변환\n",
    "df[\"embedding\"] = df[\"embedding\"].apply(np.array)  # 리스트를 numpy 배열로 변환\n",
    "\n",
    "# ✅ 유사한 연구 과제 검색 함수 (기존 임베딩 활용)\n",
    "def search_similar_projects(df, project_description, top_n=10):\n",
    "    \"\"\"\n",
    "    사용자의 연구 설명과 가장 유사한 연구 과제 n개 검색 (기존 임베딩 활용)\n",
    "    \"\"\"\n",
    "    print(\"\\n🔍 유사한 연구 과제 검색 중...\")\n",
    "\n",
    "    # ✅ 사용자의 입력을 OpenAI 임베딩으로 변환 (이 과정은 필수)\n",
    "    response = openai.Embedding.create(input=[project_description], model=\"text-embedding-3-small\")\n",
    "    project_embedding = np.array(response[\"data\"][0][\"embedding\"])\n",
    "\n",
    "    # ✅ tqdm 적용하여 유사도 계산 진행률 표시\n",
    "    df[\"similarity\"] = df[\"embedding\"].progress_apply(lambda x: cosine_similarity([x], [project_embedding])[0][0])\n",
    "\n",
    "    # ✅ 유사도가 높은 상위 n개 연구 과제 반환\n",
    "    return df.sort_values(\"similarity\", ascending=False).head(top_n)\n",
    "\n",
    "# ✅ 사용자 입력 받기\n",
    "user_business = input(\"📌 사업 내용을 입력하세요: \")\n",
    "print(f\"\\n📝 입력된 사업 내용: {user_business}\\n\")  # 🔥 입력값 바로 확인\n",
    "\n",
    "# ✅ 유사한 연구 과제 검색 실행\n",
    "similar_projects = search_similar_projects(df, user_business, top_n=10)\n",
    "\n",
    "# ✅ 유사한 연구 과제 결과 pandas 출력\n",
    "print(\"\\n📌 유사한 연구 과제 TOP 10:\")\n",
    "display(similar_projects[[\"과제명(국문)\", \"연구목표요약\", \"기대효과요약\", \"similarity\"]])\n"
   ]
  },
  {
   "cell_type": "code",
   "execution_count": 8,
   "metadata": {},
   "outputs": [],
   "source": [
    "similar_projects.to_csv('similar_projects.csv', index=False, encoding=\"utf-8-sig\")"
   ]
  },
  {
   "cell_type": "markdown",
   "metadata": {},
   "source": [
    " Step 2: 연구 과제 제목 추천\n",
    "사용자가 입력한 연구 주제를 기반으로, 기존 사례의 표현을 참고하여 새로운 연구 과제명 5개를 추천합니다."
   ]
  },
  {
   "cell_type": "code",
   "execution_count": 9,
   "metadata": {},
   "outputs": [
    {
     "name": "stdout",
     "output_type": "stream",
     "text": [
      "\n",
      "📝 입력된 사업 내용: 배터리 잔존가치를 활용한 전기 이륜차 특화 신용평가 모델\n",
      "\n",
      "\n",
      "📌 연구 제목 추천 중...\n"
     ]
    },
    {
     "data": {
      "text/html": [
       "<div>\n",
       "<style scoped>\n",
       "    .dataframe tbody tr th:only-of-type {\n",
       "        vertical-align: middle;\n",
       "    }\n",
       "\n",
       "    .dataframe tbody tr th {\n",
       "        vertical-align: top;\n",
       "    }\n",
       "\n",
       "    .dataframe thead th {\n",
       "        text-align: right;\n",
       "    }\n",
       "</style>\n",
       "<table border=\"1\" class=\"dataframe\">\n",
       "  <thead>\n",
       "    <tr style=\"text-align: right;\">\n",
       "      <th></th>\n",
       "      <th>추천 연구 제목</th>\n",
       "    </tr>\n",
       "  </thead>\n",
       "  <tbody>\n",
       "    <tr>\n",
       "      <th>0</th>\n",
       "      <td>1. \"인공지능을 활용한 전기 이륜차 배터리 잔존가치 기반 금융 리스크 평가 시스템...</td>\n",
       "    </tr>\n",
       "    <tr>\n",
       "      <th>1</th>\n",
       "      <td>2. \"전기 이륜차 배터리 수명 예측을 통한 맞춤형 신용평가 모델 연구\"</td>\n",
       "    </tr>\n",
       "    <tr>\n",
       "      <th>2</th>\n",
       "      <td>3. \"배터리 데이터 분석을 통한 전기 이륜차의 신용평가 알고리즘 개발\"</td>\n",
       "    </tr>\n",
       "    <tr>\n",
       "      <th>3</th>\n",
       "      <td>4. \"전기 이륜차의 배터리 성능 지표를 활용한 AI 기반 신용평가 시스템 연구\"</td>\n",
       "    </tr>\n",
       "    <tr>\n",
       "      <th>4</th>\n",
       "      <td>5. \"배터리 잔존가치와 주행 데이터를 활용한 전기 이륜차의 금융 신용 평가 모델 개발\"</td>\n",
       "    </tr>\n",
       "  </tbody>\n",
       "</table>\n",
       "</div>"
      ],
      "text/plain": [
       "                                            추천 연구 제목\n",
       "0  1. \"인공지능을 활용한 전기 이륜차 배터리 잔존가치 기반 금융 리스크 평가 시스템...\n",
       "1           2. \"전기 이륜차 배터리 수명 예측을 통한 맞춤형 신용평가 모델 연구\"\n",
       "2           3. \"배터리 데이터 분석을 통한 전기 이륜차의 신용평가 알고리즘 개발\"\n",
       "3      4. \"전기 이륜차의 배터리 성능 지표를 활용한 AI 기반 신용평가 시스템 연구\"\n",
       "4  5. \"배터리 잔존가치와 주행 데이터를 활용한 전기 이륜차의 금융 신용 평가 모델 개발\""
      ]
     },
     "metadata": {},
     "output_type": "display_data"
    }
   ],
   "source": [
    "import openai\n",
    "\n",
    "# ✅ 연구 제목 추천 함수\n",
    "def refine_project_title(user_title, similar_projects):\n",
    "    \"\"\"\n",
    "    사용자가 입력한 연구 제목을 기존 사례에 맞춰 5개 추천\n",
    "    \"\"\"\n",
    "    print(\"\\n📌 연구 제목 추천 중...\")\n",
    "\n",
    "    # ✅ 기존 연구 과제명을 기반으로 컨텍스트 생성\n",
    "    context = similar_projects[\"과제명(국문)\"].str.cat(sep=\", \")\n",
    "\n",
    "    # ✅ GPT 프롬프트 생성\n",
    "    prompt = (\n",
    "        f\"다음은 기존 연구 과제 제목들입니다: {context}\\n\"\n",
    "        f\"사용자가 입력한 연구 제목: {user_title}\\n\"\n",
    "        f\"위 사례를 참고하여 연구 제목을 5개 추천해주세요.\"\n",
    "    )\n",
    "\n",
    "    # ✅ OpenAI API 호출\n",
    "    response = openai.ChatCompletion.create(\n",
    "        model=\"gpt-4o\",\n",
    "        messages=[{\"role\": \"system\", \"content\": \"You are an AI that helps create research project titles.\"},\n",
    "                  {\"role\": \"user\", \"content\": prompt}],\n",
    "        max_tokens=200,\n",
    "        temperature=0.7\n",
    "    )\n",
    "\n",
    "    # ✅ 추천된 연구 제목 출력\n",
    "    recommended_titles = response[\"choices\"][0][\"message\"][\"content\"].strip().split(\"\\n\")\n",
    "    df_titles = pd.DataFrame({\"추천 연구 제목\": recommended_titles})\n",
    "    display(df_titles)\n",
    "\n",
    "    return recommended_titles\n",
    "\n",
    "# ✅ 사용자 입력\n",
    "user_title = input(\"📝 연구 제목을 입력하세요: \")\n",
    "print(f\"\\n📝 입력된 사업 내용: {user_title}\\n\")  # 🔥 입력값 바로 확인\n",
    "recommended_titles = refine_project_title(user_title, similar_projects)\n"
   ]
  },
  {
   "cell_type": "markdown",
   "metadata": {},
   "source": [
    "3. 연구 목표 및 기대효과 추천\n",
    "📌 사용자가 입력한 연구 목표 및 기대효과를 기존 사례를 참고하여 개선된 내용을 추천합니다."
   ]
  },
  {
   "cell_type": "code",
   "execution_count": null,
   "metadata": {},
   "outputs": [
    {
     "name": "stdout",
     "output_type": "stream",
     "text": [
      "\n",
      "🎯 연구 목표 및 기대효과 추천 + 차별점 분석 중...\n"
     ]
    },
    {
     "name": "stderr",
     "output_type": "stream",
     "text": [
      "🤖 OpenAI API 호출 중: 100%|██████████████████████| 1/1 [00:10<00:00, 10.84s/it]\n"
     ]
    },
    {
     "data": {
      "text/html": [
       "<div>\n",
       "<style scoped>\n",
       "    .dataframe tbody tr th:only-of-type {\n",
       "        vertical-align: middle;\n",
       "    }\n",
       "\n",
       "    .dataframe tbody tr th {\n",
       "        vertical-align: top;\n",
       "    }\n",
       "\n",
       "    .dataframe thead th {\n",
       "        text-align: right;\n",
       "    }\n",
       "</style>\n",
       "<table border=\"1\" class=\"dataframe\">\n",
       "  <thead>\n",
       "    <tr style=\"text-align: right;\">\n",
       "      <th></th>\n",
       "      <th>사용자 입력 - 연구 목표</th>\n",
       "      <th>사용자 입력 - 기대 효과</th>\n",
       "      <th>추천된 연구 목표 및 기대 효과 (차별점 포함)</th>\n",
       "    </tr>\n",
       "  </thead>\n",
       "  <tbody>\n",
       "    <tr>\n",
       "      <th>0</th>\n",
       "      <td>배터리 잔존가치를 측정하고 금융 상품을 설계하기 위한 인공지능 모델 개발</td>\n",
       "      <td>전기 이륜차 생태계를 대상으로 한 금융 공급</td>\n",
       "      <td>사용자의 연구 목표와 기대 효과는 배터리 잔존가치를 측정하고 이를 기반으로 금융 상...</td>\n",
       "    </tr>\n",
       "  </tbody>\n",
       "</table>\n",
       "</div>"
      ],
      "text/plain": [
       "                             사용자 입력 - 연구 목표            사용자 입력 - 기대 효과  \\\n",
       "0  배터리 잔존가치를 측정하고 금융 상품을 설계하기 위한 인공지능 모델 개발  전기 이륜차 생태계를 대상으로 한 금융 공급   \n",
       "\n",
       "                          추천된 연구 목표 및 기대 효과 (차별점 포함)  \n",
       "0  사용자의 연구 목표와 기대 효과는 배터리 잔존가치를 측정하고 이를 기반으로 금융 상...  "
      ]
     },
     "metadata": {},
     "output_type": "display_data"
    },
    {
     "name": "stdout",
     "output_type": "stream",
     "text": [
      "배터리 잔존가치를 측정하고 금융 상품을 설계하기 위한 인공지능 모델 개발\n",
      "전기 이륜차 생태계를 대상으로 한 금융 공급\n",
      "\n",
      "✅ 연구 목표 및 기대효과 + 차별점 분석 결과:\n",
      "                          사용자 입력 - 연구 목표           사용자 입력 - 기대 효과                                                                                                                                                                                                                                                                                                                                                                                                                                                                                                                                                                                                                                                                                                                                                                                                                                                                                                                                                              추천된 연구 목표 및 기대 효과 (차별점 포함)\n",
      "배터리 잔존가치를 측정하고 금융 상품을 설계하기 위한 인공지능 모델 개발 전기 이륜차 생태계를 대상으로 한 금융 공급 사용자의 연구 목표와 기대 효과는 배터리 잔존가치를 측정하고 이를 기반으로 금융 상품을 설계하는 데 중점을 두고 있으며, 이는 전기 이륜차 생태계에 대한 금융 공급을 목표로 하고 있습니다. 기존 연구와 비교하여 차별화할 수 있는 요소와 보완점을 다음과 같이 분석하고 제안할 수 있습니다.\\n\\n### 차별화 요소\\n\\n1. **금융 상품 설계**:\\n   - 기존 연구는 주로 배터리 관리 및 잔존가치 예측에 초점을 맞추고 있습니다. 사용자의 연구는 이러한 정보를 금융 상품 설계와 직접 연결한다는 점에서 차별화됩니다. 이는 배터리 잔존가치를 금융적 가치로 변환하는 데 중점을 둡니다.\\n\\n2. **전기 이륜차에 특화**:\\n   - 기존 연구는 주로 전기차나 일반적인 배터리 관리를 다루고 있습니다. 사용자의 연구는 전기 이륜차라는 특정 시장을 타겟으로 하여 차별화됩니다. 이륜차 시장은 자동차와는 다른 특성과 요구를 가지므로, 이에 맞춘 모델 개발은 독창적일 수 있습니다.\\n\\n3. **생태계 발전 기여**:\\n   - 금융 공급을 통해 전기 이륜차 생태계를 발전시키는 것을 기대 효과로 삼고 있습니다. 이는 전기차 산업 전반에 걸친 기술 및 서비스 개선뿐만 아니라, 금융을 통한 산업 촉진을 목표로 한다는 점에서 차별화됩니다.\\n\\n### 보완 및 제안\\n\\n1. **데이터 수집 및 분석 강화**:\\n   - 전기 이륜차의 특성을 반영한 데이터 수집 및 분석 체계를 강화하여, 배터리 잔존가치 예측의 정확성을 높이는 것이 중요합니다. 이를 위해 이륜차의 운행 패턴, 환경적 요인 등을 고려한 고급 데이터 분석 기법을 활용할 수 있습니다.\\n\\n2. **맞춤형 금융 상품 개발**:\\n   - 배터리 잔존가치를 기반으로 한 금융 상품의 종류와 구조를 다양화하여, 사용자의 다양한 재무적 요구를 충족할 수 있도록 해야 합니다. 예를 들어, 리스, 렌탈, 보험 등 다양한 금융 모델을 고려할 수\n"
     ]
    }
   ],
   "source": [
    "import openai\n",
    "import pandas as pd\n",
    "from tqdm import tqdm\n",
    "from dotenv import load_dotenv\n",
    "import os\n",
    "import ast\n",
    "from IPython.display import display  # ✅ Jupyter Notebook 친화적인 출력 지원\n",
    "\n",
    "# ✅ .env 파일 로드 (API Key)\n",
    "load_dotenv()\n",
    "openai.api_key = os.getenv(\"OPENAI_API_KEY\")\n",
    "\n",
    "# ✅ tqdm 진행률 표시 적용\n",
    "tqdm.pandas()\n",
    "\n",
    "# ✅ 연구 목표 및 기대효과 추천 함수 (차별점 분석 포함)\n",
    "def recommend_research_goal_effect(user_goal, user_effect, similar_projects):\n",
    "    \"\"\"\n",
    "    사용자의 연구 목표 및 기대효과를 기존 연구 사례를 참고하여 개선하고 차별점을 부각시키는 기능 추가\n",
    "    \"\"\"\n",
    "    print(\"\\n🎯 연구 목표 및 기대효과 추천 + 차별점 분석 중...\")\n",
    "\n",
    "    # ✅ 기존 연구 사례를 기반으로 컨텍스트 생성\n",
    "    context = \"\\n\".join([\n",
    "        f\"과제명: {row['과제명(국문)']}\\n연구목표: {row['연구목표요약']}\\n기대효과: {row['기대효과요약']}\\n\"\n",
    "        for _, row in similar_projects.iterrows()\n",
    "    ])\n",
    "    \n",
    "    prompt = (\n",
    "        f\"다음은 기존 연구 과제들의 연구 목표 및 기대효과입니다:\\n{context}\\n\\n\"\n",
    "        f\"📌 사용자의 연구 목표:\\n{user_goal}\\n\"\n",
    "        f\"🌟 사용자의 기대 효과:\\n{user_effect}\\n\\n\"\n",
    "        f\"🔍 기존 연구와 비교했을 때, 사용자의 연구 목표와 기대효과에서 차별화할 수 있는 요소를 분석하여 작성해 주세요. \"\n",
    "        f\"또한 어떤 방향으로 연구 목표 및 기대효과를 보완하면 더욱 독창적이고 효과적인 연구 기획이 될 수 있는지 제안해 주세요.\"\n",
    "    )\n",
    "\n",
    "    # ✅ OpenAI API 호출 (진행률 표시 추가)\n",
    "    with tqdm(total=1, desc=\"🤖 OpenAI API 호출 중\", ncols=80) as pbar:\n",
    "        response = openai.ChatCompletion.create(\n",
    "            model=\"gpt-4o\",\n",
    "            messages=[{\"role\": \"system\", \"content\": \"You are an AI assistant specializing in research project planning.\"},\n",
    "                      {\"role\": \"user\", \"content\": prompt}],\n",
    "            max_tokens=500,\n",
    "            temperature=0.7\n",
    "        )\n",
    "        pbar.update(1)  # API 호출 완료 후 진행률 갱신\n",
    "\n",
    "    return response[\"choices\"][0][\"message\"][\"content\"].strip()\n",
    "\n",
    "# ✅ 사용자 입력 받기\n",
    "user_goal = input(\"🎯 연구 목표를 입력하세요: \")\n",
    "user_effect = input(\"🌟 기대 효과를 입력하세요: \")\n",
    "\n",
    "# ✅ 연구 목표 및 기대효과 추천 실행 (차별점 분석 포함)\n",
    "recommended_goal_effect = recommend_research_goal_effect(user_goal, user_effect, similar_projects)\n",
    "\n",
    "# ✅ 결과를 pandas 데이터프레임으로 변환하여 보기 쉽게 출력\n",
    "df_result = pd.DataFrame({\n",
    "    \"사용자 입력 - 연구 목표\": [user_goal],\n",
    "    \"사용자 입력 - 기대 효과\": [user_effect],\n",
    "    \"추천된 연구 목표 및 기대 효과 (차별점 포함)\": [recommended_goal_effect]\n",
    "})\n",
    "\n",
    "# ✅ Jupyter Notebook에서는 display(), VS Code에서는 print() 활용\n",
    "display(df_result)  # Jupyter Notebook 출력용\n",
    "\n",
    "print(\"\\n✅ 연구 목표 및 기대효과 + 차별점 분석 결과:\")\n",
    "print(df_result.to_string(index=False))  # VS Code에서도 보기 쉽게 출력\n"
   ]
  },
  {
   "cell_type": "code",
   "execution_count": null,
   "metadata": {},
   "outputs": [],
   "source": []
  }
 ],
 "metadata": {
  "kernelspec": {
   "display_name": "venv_test",
   "language": "python",
   "name": "python3"
  },
  "language_info": {
   "codemirror_mode": {
    "name": "ipython",
    "version": 3
   },
   "file_extension": ".py",
   "mimetype": "text/x-python",
   "name": "python",
   "nbconvert_exporter": "python",
   "pygments_lexer": "ipython3",
   "version": "3.11.9"
  }
 },
 "nbformat": 4,
 "nbformat_minor": 2
}
